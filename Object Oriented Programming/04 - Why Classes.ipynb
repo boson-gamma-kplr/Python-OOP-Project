{
 "cells": [
  {
   "cell_type": "markdown",
   "id": "b28026dd",
   "metadata": {},
   "source": [
    "# Why Classes? / NEED-TO-KNOW\n",
    "\n",
    "You \"hide\" the internal away.\n",
    "\n",
    "Let's try to make an example.\n",
    "\n",
    "```Python\n",
    "class Board:\n",
    "    def __init__(self):\n",
    "        self.board = ['O', ' ', ' ', ' ', ' ', 'X']\n",
    "        \n",
    "    def __str__(self):\n",
    "        length = len(self.board)\n",
    "        \n",
    "        output = '-'*(length*2 + 1) + '\\n'\n",
    "        \n",
    "        for item in self.board:\n",
    "            output += '|' + item\n",
    "        output += '|\\n'\n",
    "        \n",
    "        output += '-'*(length*2 + 1) + '\\n'\n",
    "        \n",
    "        return output\n",
    "```"
   ]
  },
  {
   "cell_type": "code",
   "execution_count": 1,
   "id": "da42983c",
   "metadata": {},
   "outputs": [],
   "source": [
    "class Board:\n",
    "    def __init__(self):\n",
    "        self.board = ['O', ' ', ' ', ' ', ' ', 'X']\n",
    "\n",
    "    def __str__(self):\n",
    "        length = len(self.board)\n",
    "\n",
    "        output = '-'*(length*2 + 1) + '\\n'\n",
    "\n",
    "        for item in self.board:\n",
    "            output += '|' + item\n",
    "        output += '|\\n'\n",
    "\n",
    "        output += '-'*(length*2 + 1) + '\\n'\n",
    "\n",
    "        return output"
   ]
  },
  {
   "cell_type": "code",
   "execution_count": 2,
   "id": "34ff78ff",
   "metadata": {},
   "outputs": [
    {
     "name": "stdout",
     "output_type": "stream",
     "text": [
      "-------------\n",
      "|O| | | | |X|\n",
      "-------------\n",
      "\n"
     ]
    }
   ],
   "source": [
    "board = Board()\n",
    "print(board)"
   ]
  },
  {
   "cell_type": "code",
   "execution_count": null,
   "id": "39239430",
   "metadata": {},
   "outputs": [],
   "source": []
  },
  {
   "cell_type": "code",
   "execution_count": null,
   "id": "5d181d12",
   "metadata": {},
   "outputs": [],
   "source": []
  },
  {
   "cell_type": "markdown",
   "id": "e790b3f7",
   "metadata": {},
   "source": [
    "### How functions are written as methods\n",
    "\n",
    "Example\n",
    "```Python\n",
    "def valid_move(input_str, board):\n",
    "    if input_str not in ['-2', '-1', '1', '2']:\n",
    "        return False\n",
    "    \n",
    "    move = int(input_str)\n",
    "    \n",
    "    position = get_player_position(board)\n",
    "    \n",
    "    if position + move < 0:\n",
    "        return False\n",
    "    \n",
    "    if position + move >= len(board):\n",
    "        return False\n",
    "    \n",
    "    return True\n",
    "```"
   ]
  },
  {
   "cell_type": "code",
   "execution_count": 3,
   "id": "6165caac",
   "metadata": {},
   "outputs": [],
   "source": [
    "class Board:\n",
    "    def __init__(self):\n",
    "        self.board = ['O', ' ', ' ', ' ', ' ', 'X']\n",
    "\n",
    "    def __str__(self):\n",
    "        length = len(self.board)\n",
    "\n",
    "        output = '-'*(length*2 + 1) + '\\n'\n",
    "\n",
    "        for item in self.board:\n",
    "            output += '|' + item\n",
    "        output += '|\\n'\n",
    "\n",
    "        output += '-'*(length*2 + 1) + '\\n'\n",
    "\n",
    "        return output\n",
    "    \n",
    "    def valid_move(self, move_str):\n",
    "        \"\"\"\n",
    "        Returns True if valid move and inside the board.\n",
    "        \"\"\"\n",
    "        if move_str not in ['-2', '-1', '1', '2']:\n",
    "            return False\n",
    "\n",
    "        move = int(move_str)\n",
    "\n",
    "        position = self.board.index('O')\n",
    "\n",
    "        if position + move < 0:\n",
    "            return False\n",
    "\n",
    "        if position + move >= len(self.board):\n",
    "            return False\n",
    "\n",
    "        return True        "
   ]
  },
  {
   "cell_type": "code",
   "execution_count": 4,
   "id": "0c8ffc35",
   "metadata": {},
   "outputs": [],
   "source": [
    "board = Board()"
   ]
  },
  {
   "cell_type": "code",
   "execution_count": 5,
   "id": "f8cd736a",
   "metadata": {},
   "outputs": [
    {
     "name": "stdout",
     "output_type": "stream",
     "text": [
      "-------------\n",
      "|O| | | | |X|\n",
      "-------------\n",
      "\n"
     ]
    }
   ],
   "source": [
    "print(board)"
   ]
  },
  {
   "cell_type": "code",
   "execution_count": 6,
   "id": "fe307b9e",
   "metadata": {},
   "outputs": [
    {
     "data": {
      "text/plain": [
       "False"
      ]
     },
     "execution_count": 6,
     "metadata": {},
     "output_type": "execute_result"
    }
   ],
   "source": [
    "board.valid_move('0')"
   ]
  },
  {
   "cell_type": "code",
   "execution_count": null,
   "id": "9f78536b",
   "metadata": {},
   "outputs": [],
   "source": []
  }
 ],
 "metadata": {
  "kernelspec": {
   "display_name": "Python 3 (ipykernel)",
   "language": "python",
   "name": "python3"
  },
  "language_info": {
   "codemirror_mode": {
    "name": "ipython",
    "version": 3
   },
   "file_extension": ".py",
   "mimetype": "text/x-python",
   "name": "python",
   "nbconvert_exporter": "python",
   "pygments_lexer": "ipython3",
   "version": "3.10.4"
  }
 },
 "nbformat": 4,
 "nbformat_minor": 5
}
