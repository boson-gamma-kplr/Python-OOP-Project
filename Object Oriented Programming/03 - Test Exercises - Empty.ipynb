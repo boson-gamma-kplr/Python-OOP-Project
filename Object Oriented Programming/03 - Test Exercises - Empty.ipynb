{
 "cells": [
  {
   "cell_type": "markdown",
   "id": "018f51b4",
   "metadata": {},
   "source": [
    "# Test Exercises"
   ]
  },
  {
   "cell_type": "markdown",
   "id": "d77460b0",
   "metadata": {},
   "source": [
    "### Exercise 1\n",
    "\n",
    "Create a `class` for a book called `Book`.\n",
    "\n",
    "The attributes should be.\n",
    "- `title`\n",
    "- `author`\n",
    "- `pages`\n",
    "\n",
    "Try it out."
   ]
  },
  {
   "cell_type": "code",
   "execution_count": 1,
   "id": "f33f470f",
   "metadata": {},
   "outputs": [],
   "source": [
    "class Book:\n",
    "    def __init__(self, title,author,pages):\n",
    "        self.title = title\n",
    "        self.author = author\n",
    "        self.pages = pages"
   ]
  },
  {
   "cell_type": "code",
   "execution_count": null,
   "id": "862e0298",
   "metadata": {},
   "outputs": [],
   "source": []
  },
  {
   "cell_type": "code",
   "execution_count": null,
   "id": "3ef86d2e",
   "metadata": {},
   "outputs": [],
   "source": []
  },
  {
   "cell_type": "markdown",
   "id": "9813e500",
   "metadata": {},
   "source": [
    "### Exercise 2\n",
    "\n",
    "Continue with the `Book` class.\n",
    "\n",
    "- Add get and set methods for the title.\n",
    "- Add a `__str__` method for a string representation of the class.\n",
    "\n",
    "Try it out."
   ]
  },
  {
   "cell_type": "code",
   "execution_count": 2,
   "id": "18f7a816",
   "metadata": {},
   "outputs": [],
   "source": [
    "class Book:\n",
    "    def __init__(self, title,author,pages):\n",
    "        self.title = title\n",
    "        self.author = author\n",
    "        self.pages = pages\n",
    "\n",
    "    def __str__(self):\n",
    "        return(f\"{self.title} {self.author} {self.pages}\")"
   ]
  },
  {
   "cell_type": "code",
   "execution_count": 3,
   "id": "02e2bc00",
   "metadata": {},
   "outputs": [
    {
     "name": "stdout",
     "output_type": "stream",
     "text": [
      "toto tutu 200\n"
     ]
    }
   ],
   "source": [
    "book = Book(\"toto\",\"tutu\", 200)\n",
    "print(book)"
   ]
  },
  {
   "cell_type": "code",
   "execution_count": null,
   "id": "dd0c77e7",
   "metadata": {},
   "outputs": [],
   "source": []
  },
  {
   "cell_type": "markdown",
   "id": "57e274d1",
   "metadata": {},
   "source": [
    "### Exercise 3 (Challenging)\n",
    "\n",
    "Continue with the `Book` class\n",
    "\n",
    "- Add a `__lt__` method that compares to objects.\n",
    "\n",
    "Create a list of books, sort it, and see it works."
   ]
  },
  {
   "cell_type": "code",
   "execution_count": 5,
   "id": "08ceca17",
   "metadata": {},
   "outputs": [],
   "source": [
    "class Book:\n",
    "    def __init__(self, title,author,pages):\n",
    "        self.title = title\n",
    "        self.author = author\n",
    "        self.pages = pages\n",
    "\n",
    "    def __str__(self):\n",
    "        return(f\"{self.title} {self.author} {self.pages}\")\n",
    "    \n",
    "    def __lt__(self, other):\n",
    "        if self.author == other.author:\n",
    "            return self.title< other.title\n",
    "        else:\n",
    "            return self.author<other.author"
   ]
  },
  {
   "cell_type": "code",
   "execution_count": 9,
   "id": "c9f80062",
   "metadata": {},
   "outputs": [
    {
     "name": "stdout",
     "output_type": "stream",
     "text": [
      "A_fromA A 200\n",
      "C_fromC C 100\n",
      "B_fromA A 100\n",
      "B_fromB B 100\n",
      "====Sorted====\n",
      "A_fromA A 200\n",
      "B_fromA A 100\n",
      "B_fromB B 100\n",
      "C_fromC C 100\n",
      "====reverse Sorted ====\n",
      "C_fromC C 100\n",
      "B_fromB B 100\n",
      "B_fromA A 100\n",
      "A_fromA A 200\n"
     ]
    }
   ],
   "source": [
    "book_list = [Book(\"A_fromA\", \"A\",200), Book(\"C_fromC\", \"C\",100), Book(\"B_fromA\",\"A\",100),Book(\"B_fromB\",\"B\",100)]\n",
    "for book in book_list:\n",
    "    print(book)\n",
    "\n",
    "book_list.sort()\n",
    "print(\"====Sorted====\")\n",
    "for book in book_list:\n",
    "    print(book)\n",
    "\n",
    "book_list.sort(reverse = True)\n",
    "print(\"====reverse Sorted ====\")\n",
    "for book in book_list:\n",
    "    print(book)"
   ]
  },
  {
   "cell_type": "code",
   "execution_count": null,
   "id": "44f29f12",
   "metadata": {},
   "outputs": [],
   "source": []
  }
 ],
 "metadata": {
  "kernelspec": {
   "display_name": "Python 3 (ipykernel)",
   "language": "python",
   "name": "python3"
  },
  "language_info": {
   "codemirror_mode": {
    "name": "ipython",
    "version": 3
   },
   "file_extension": ".py",
   "mimetype": "text/x-python",
   "name": "python",
   "nbconvert_exporter": "python",
   "pygments_lexer": "ipython3",
   "version": "3.10.4"
  }
 },
 "nbformat": 4,
 "nbformat_minor": 5
}
